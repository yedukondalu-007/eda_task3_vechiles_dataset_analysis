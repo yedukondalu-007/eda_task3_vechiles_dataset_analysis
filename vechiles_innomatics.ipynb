{
 "cells": [
  {
   "cell_type": "code",
   "execution_count": 1,
   "id": "ce4eb3c5-443d-4f2d-aeef-8c99d2dc677d",
   "metadata": {},
   "outputs": [
    {
     "ename": "FileNotFoundError",
     "evalue": "[Errno 2] No such file or directory: 'dataset.csv'",
     "output_type": "error",
     "traceback": [
      "\u001b[0;31m---------------------------------------------------------------------------\u001b[0m",
      "\u001b[0;31mFileNotFoundError\u001b[0m                         Traceback (most recent call last)",
      "Cell \u001b[0;32mIn[1], line 2\u001b[0m\n\u001b[1;32m      1\u001b[0m \u001b[38;5;28;01mimport\u001b[39;00m \u001b[38;5;21;01mpandas\u001b[39;00m \u001b[38;5;28;01mas\u001b[39;00m \u001b[38;5;21;01mpd\u001b[39;00m\n\u001b[0;32m----> 2\u001b[0m dataset\u001b[38;5;241m=\u001b[39mpd\u001b[38;5;241m.\u001b[39mread_csv(\u001b[38;5;124m\"\u001b[39m\u001b[38;5;124mdataset.csv\u001b[39m\u001b[38;5;124m\"\u001b[39m)\n\u001b[1;32m      3\u001b[0m dataset\n",
      "File \u001b[0;32m~/anaconda3/lib/python3.11/site-packages/pandas/util/_decorators.py:211\u001b[0m, in \u001b[0;36mdeprecate_kwarg.<locals>._deprecate_kwarg.<locals>.wrapper\u001b[0;34m(*args, **kwargs)\u001b[0m\n\u001b[1;32m    209\u001b[0m     \u001b[38;5;28;01melse\u001b[39;00m:\n\u001b[1;32m    210\u001b[0m         kwargs[new_arg_name] \u001b[38;5;241m=\u001b[39m new_arg_value\n\u001b[0;32m--> 211\u001b[0m \u001b[38;5;28;01mreturn\u001b[39;00m func(\u001b[38;5;241m*\u001b[39margs, \u001b[38;5;241m*\u001b[39m\u001b[38;5;241m*\u001b[39mkwargs)\n",
      "File \u001b[0;32m~/anaconda3/lib/python3.11/site-packages/pandas/util/_decorators.py:331\u001b[0m, in \u001b[0;36mdeprecate_nonkeyword_arguments.<locals>.decorate.<locals>.wrapper\u001b[0;34m(*args, **kwargs)\u001b[0m\n\u001b[1;32m    325\u001b[0m \u001b[38;5;28;01mif\u001b[39;00m \u001b[38;5;28mlen\u001b[39m(args) \u001b[38;5;241m>\u001b[39m num_allow_args:\n\u001b[1;32m    326\u001b[0m     warnings\u001b[38;5;241m.\u001b[39mwarn(\n\u001b[1;32m    327\u001b[0m         msg\u001b[38;5;241m.\u001b[39mformat(arguments\u001b[38;5;241m=\u001b[39m_format_argument_list(allow_args)),\n\u001b[1;32m    328\u001b[0m         \u001b[38;5;167;01mFutureWarning\u001b[39;00m,\n\u001b[1;32m    329\u001b[0m         stacklevel\u001b[38;5;241m=\u001b[39mfind_stack_level(),\n\u001b[1;32m    330\u001b[0m     )\n\u001b[0;32m--> 331\u001b[0m \u001b[38;5;28;01mreturn\u001b[39;00m func(\u001b[38;5;241m*\u001b[39margs, \u001b[38;5;241m*\u001b[39m\u001b[38;5;241m*\u001b[39mkwargs)\n",
      "File \u001b[0;32m~/anaconda3/lib/python3.11/site-packages/pandas/io/parsers/readers.py:950\u001b[0m, in \u001b[0;36mread_csv\u001b[0;34m(filepath_or_buffer, sep, delimiter, header, names, index_col, usecols, squeeze, prefix, mangle_dupe_cols, dtype, engine, converters, true_values, false_values, skipinitialspace, skiprows, skipfooter, nrows, na_values, keep_default_na, na_filter, verbose, skip_blank_lines, parse_dates, infer_datetime_format, keep_date_col, date_parser, dayfirst, cache_dates, iterator, chunksize, compression, thousands, decimal, lineterminator, quotechar, quoting, doublequote, escapechar, comment, encoding, encoding_errors, dialect, error_bad_lines, warn_bad_lines, on_bad_lines, delim_whitespace, low_memory, memory_map, float_precision, storage_options)\u001b[0m\n\u001b[1;32m    935\u001b[0m kwds_defaults \u001b[38;5;241m=\u001b[39m _refine_defaults_read(\n\u001b[1;32m    936\u001b[0m     dialect,\n\u001b[1;32m    937\u001b[0m     delimiter,\n\u001b[0;32m   (...)\u001b[0m\n\u001b[1;32m    946\u001b[0m     defaults\u001b[38;5;241m=\u001b[39m{\u001b[38;5;124m\"\u001b[39m\u001b[38;5;124mdelimiter\u001b[39m\u001b[38;5;124m\"\u001b[39m: \u001b[38;5;124m\"\u001b[39m\u001b[38;5;124m,\u001b[39m\u001b[38;5;124m\"\u001b[39m},\n\u001b[1;32m    947\u001b[0m )\n\u001b[1;32m    948\u001b[0m kwds\u001b[38;5;241m.\u001b[39mupdate(kwds_defaults)\n\u001b[0;32m--> 950\u001b[0m \u001b[38;5;28;01mreturn\u001b[39;00m _read(filepath_or_buffer, kwds)\n",
      "File \u001b[0;32m~/anaconda3/lib/python3.11/site-packages/pandas/io/parsers/readers.py:605\u001b[0m, in \u001b[0;36m_read\u001b[0;34m(filepath_or_buffer, kwds)\u001b[0m\n\u001b[1;32m    602\u001b[0m _validate_names(kwds\u001b[38;5;241m.\u001b[39mget(\u001b[38;5;124m\"\u001b[39m\u001b[38;5;124mnames\u001b[39m\u001b[38;5;124m\"\u001b[39m, \u001b[38;5;28;01mNone\u001b[39;00m))\n\u001b[1;32m    604\u001b[0m \u001b[38;5;66;03m# Create the parser.\u001b[39;00m\n\u001b[0;32m--> 605\u001b[0m parser \u001b[38;5;241m=\u001b[39m TextFileReader(filepath_or_buffer, \u001b[38;5;241m*\u001b[39m\u001b[38;5;241m*\u001b[39mkwds)\n\u001b[1;32m    607\u001b[0m \u001b[38;5;28;01mif\u001b[39;00m chunksize \u001b[38;5;129;01mor\u001b[39;00m iterator:\n\u001b[1;32m    608\u001b[0m     \u001b[38;5;28;01mreturn\u001b[39;00m parser\n",
      "File \u001b[0;32m~/anaconda3/lib/python3.11/site-packages/pandas/io/parsers/readers.py:1442\u001b[0m, in \u001b[0;36mTextFileReader.__init__\u001b[0;34m(self, f, engine, **kwds)\u001b[0m\n\u001b[1;32m   1439\u001b[0m     \u001b[38;5;28mself\u001b[39m\u001b[38;5;241m.\u001b[39moptions[\u001b[38;5;124m\"\u001b[39m\u001b[38;5;124mhas_index_names\u001b[39m\u001b[38;5;124m\"\u001b[39m] \u001b[38;5;241m=\u001b[39m kwds[\u001b[38;5;124m\"\u001b[39m\u001b[38;5;124mhas_index_names\u001b[39m\u001b[38;5;124m\"\u001b[39m]\n\u001b[1;32m   1441\u001b[0m \u001b[38;5;28mself\u001b[39m\u001b[38;5;241m.\u001b[39mhandles: IOHandles \u001b[38;5;241m|\u001b[39m \u001b[38;5;28;01mNone\u001b[39;00m \u001b[38;5;241m=\u001b[39m \u001b[38;5;28;01mNone\u001b[39;00m\n\u001b[0;32m-> 1442\u001b[0m \u001b[38;5;28mself\u001b[39m\u001b[38;5;241m.\u001b[39m_engine \u001b[38;5;241m=\u001b[39m \u001b[38;5;28mself\u001b[39m\u001b[38;5;241m.\u001b[39m_make_engine(f, \u001b[38;5;28mself\u001b[39m\u001b[38;5;241m.\u001b[39mengine)\n",
      "File \u001b[0;32m~/anaconda3/lib/python3.11/site-packages/pandas/io/parsers/readers.py:1735\u001b[0m, in \u001b[0;36mTextFileReader._make_engine\u001b[0;34m(self, f, engine)\u001b[0m\n\u001b[1;32m   1733\u001b[0m     \u001b[38;5;28;01mif\u001b[39;00m \u001b[38;5;124m\"\u001b[39m\u001b[38;5;124mb\u001b[39m\u001b[38;5;124m\"\u001b[39m \u001b[38;5;129;01mnot\u001b[39;00m \u001b[38;5;129;01min\u001b[39;00m mode:\n\u001b[1;32m   1734\u001b[0m         mode \u001b[38;5;241m+\u001b[39m\u001b[38;5;241m=\u001b[39m \u001b[38;5;124m\"\u001b[39m\u001b[38;5;124mb\u001b[39m\u001b[38;5;124m\"\u001b[39m\n\u001b[0;32m-> 1735\u001b[0m \u001b[38;5;28mself\u001b[39m\u001b[38;5;241m.\u001b[39mhandles \u001b[38;5;241m=\u001b[39m get_handle(\n\u001b[1;32m   1736\u001b[0m     f,\n\u001b[1;32m   1737\u001b[0m     mode,\n\u001b[1;32m   1738\u001b[0m     encoding\u001b[38;5;241m=\u001b[39m\u001b[38;5;28mself\u001b[39m\u001b[38;5;241m.\u001b[39moptions\u001b[38;5;241m.\u001b[39mget(\u001b[38;5;124m\"\u001b[39m\u001b[38;5;124mencoding\u001b[39m\u001b[38;5;124m\"\u001b[39m, \u001b[38;5;28;01mNone\u001b[39;00m),\n\u001b[1;32m   1739\u001b[0m     compression\u001b[38;5;241m=\u001b[39m\u001b[38;5;28mself\u001b[39m\u001b[38;5;241m.\u001b[39moptions\u001b[38;5;241m.\u001b[39mget(\u001b[38;5;124m\"\u001b[39m\u001b[38;5;124mcompression\u001b[39m\u001b[38;5;124m\"\u001b[39m, \u001b[38;5;28;01mNone\u001b[39;00m),\n\u001b[1;32m   1740\u001b[0m     memory_map\u001b[38;5;241m=\u001b[39m\u001b[38;5;28mself\u001b[39m\u001b[38;5;241m.\u001b[39moptions\u001b[38;5;241m.\u001b[39mget(\u001b[38;5;124m\"\u001b[39m\u001b[38;5;124mmemory_map\u001b[39m\u001b[38;5;124m\"\u001b[39m, \u001b[38;5;28;01mFalse\u001b[39;00m),\n\u001b[1;32m   1741\u001b[0m     is_text\u001b[38;5;241m=\u001b[39mis_text,\n\u001b[1;32m   1742\u001b[0m     errors\u001b[38;5;241m=\u001b[39m\u001b[38;5;28mself\u001b[39m\u001b[38;5;241m.\u001b[39moptions\u001b[38;5;241m.\u001b[39mget(\u001b[38;5;124m\"\u001b[39m\u001b[38;5;124mencoding_errors\u001b[39m\u001b[38;5;124m\"\u001b[39m, \u001b[38;5;124m\"\u001b[39m\u001b[38;5;124mstrict\u001b[39m\u001b[38;5;124m\"\u001b[39m),\n\u001b[1;32m   1743\u001b[0m     storage_options\u001b[38;5;241m=\u001b[39m\u001b[38;5;28mself\u001b[39m\u001b[38;5;241m.\u001b[39moptions\u001b[38;5;241m.\u001b[39mget(\u001b[38;5;124m\"\u001b[39m\u001b[38;5;124mstorage_options\u001b[39m\u001b[38;5;124m\"\u001b[39m, \u001b[38;5;28;01mNone\u001b[39;00m),\n\u001b[1;32m   1744\u001b[0m )\n\u001b[1;32m   1745\u001b[0m \u001b[38;5;28;01massert\u001b[39;00m \u001b[38;5;28mself\u001b[39m\u001b[38;5;241m.\u001b[39mhandles \u001b[38;5;129;01mis\u001b[39;00m \u001b[38;5;129;01mnot\u001b[39;00m \u001b[38;5;28;01mNone\u001b[39;00m\n\u001b[1;32m   1746\u001b[0m f \u001b[38;5;241m=\u001b[39m \u001b[38;5;28mself\u001b[39m\u001b[38;5;241m.\u001b[39mhandles\u001b[38;5;241m.\u001b[39mhandle\n",
      "File \u001b[0;32m~/anaconda3/lib/python3.11/site-packages/pandas/io/common.py:856\u001b[0m, in \u001b[0;36mget_handle\u001b[0;34m(path_or_buf, mode, encoding, compression, memory_map, is_text, errors, storage_options)\u001b[0m\n\u001b[1;32m    851\u001b[0m \u001b[38;5;28;01melif\u001b[39;00m \u001b[38;5;28misinstance\u001b[39m(handle, \u001b[38;5;28mstr\u001b[39m):\n\u001b[1;32m    852\u001b[0m     \u001b[38;5;66;03m# Check whether the filename is to be opened in binary mode.\u001b[39;00m\n\u001b[1;32m    853\u001b[0m     \u001b[38;5;66;03m# Binary mode does not support 'encoding' and 'newline'.\u001b[39;00m\n\u001b[1;32m    854\u001b[0m     \u001b[38;5;28;01mif\u001b[39;00m ioargs\u001b[38;5;241m.\u001b[39mencoding \u001b[38;5;129;01mand\u001b[39;00m \u001b[38;5;124m\"\u001b[39m\u001b[38;5;124mb\u001b[39m\u001b[38;5;124m\"\u001b[39m \u001b[38;5;129;01mnot\u001b[39;00m \u001b[38;5;129;01min\u001b[39;00m ioargs\u001b[38;5;241m.\u001b[39mmode:\n\u001b[1;32m    855\u001b[0m         \u001b[38;5;66;03m# Encoding\u001b[39;00m\n\u001b[0;32m--> 856\u001b[0m         handle \u001b[38;5;241m=\u001b[39m \u001b[38;5;28mopen\u001b[39m(\n\u001b[1;32m    857\u001b[0m             handle,\n\u001b[1;32m    858\u001b[0m             ioargs\u001b[38;5;241m.\u001b[39mmode,\n\u001b[1;32m    859\u001b[0m             encoding\u001b[38;5;241m=\u001b[39mioargs\u001b[38;5;241m.\u001b[39mencoding,\n\u001b[1;32m    860\u001b[0m             errors\u001b[38;5;241m=\u001b[39merrors,\n\u001b[1;32m    861\u001b[0m             newline\u001b[38;5;241m=\u001b[39m\u001b[38;5;124m\"\u001b[39m\u001b[38;5;124m\"\u001b[39m,\n\u001b[1;32m    862\u001b[0m         )\n\u001b[1;32m    863\u001b[0m     \u001b[38;5;28;01melse\u001b[39;00m:\n\u001b[1;32m    864\u001b[0m         \u001b[38;5;66;03m# Binary mode\u001b[39;00m\n\u001b[1;32m    865\u001b[0m         handle \u001b[38;5;241m=\u001b[39m \u001b[38;5;28mopen\u001b[39m(handle, ioargs\u001b[38;5;241m.\u001b[39mmode)\n",
      "\u001b[0;31mFileNotFoundError\u001b[0m: [Errno 2] No such file or directory: 'dataset.csv'"
     ]
    }
   ],
   "source": [
    "import pandas as pd\n",
    "dataset=pd.read_csv(\"dataset.csv\")\n",
    "dataset"
   ]
  },
  {
   "cell_type": "code",
   "execution_count": null,
   "id": "0ec2061a-a9c2-4896-931a-0d74c0e392d3",
   "metadata": {},
   "outputs": [],
   "source": [
    "dataset.columns"
   ]
  },
  {
   "cell_type": "code",
   "execution_count": null,
   "id": "40a2668c-c4dc-42c7-84be-aff4dab2ff56",
   "metadata": {},
   "outputs": [],
   "source": [
    "dataset.describe"
   ]
  },
  {
   "cell_type": "code",
   "execution_count": null,
   "id": "f8be2876-4866-43a7-9ba7-86db14cc98ac",
   "metadata": {},
   "outputs": [],
   "source": [
    "dataset.info"
   ]
  },
  {
   "cell_type": "code",
   "execution_count": null,
   "id": "91be612c-ddda-4697-8479-d10aab93d94e",
   "metadata": {},
   "outputs": [],
   "source": [
    "# Task 1: This is an open ended problem. Apply Exploratory Data Analysis (Univariate and Bivariate) on the dataset available above.\n"
   ]
  },
  {
   "cell_type": "code",
   "execution_count": null,
   "id": "bb3f70e8-100a-4764-8e98-73e41a0b4726",
   "metadata": {},
   "outputs": [],
   "source": [
    "# Import necessary libraries\n",
    "import pandas as pd\n",
    "import seaborn as sns\n",
    "import matplotlib.pyplot as plt\n"
   ]
  },
  {
   "cell_type": "code",
   "execution_count": null,
   "id": "89627a19-eb77-4ba3-91cf-1b7abc45b96d",
   "metadata": {},
   "outputs": [],
   "source": [
    "# ------------- Univariate Analysis -------------\n",
    "# 1. Distribution of Model Year\n",
    "plt.figure(figsize=(10, 6))\n",
    "sns.histplot(dataset['Model Year'], kde=True, bins=30, color='skyblue')\n",
    "plt.title('Distribution of Model Year')\n",
    "plt.xlabel('Model Year')\n",
    "plt.ylabel('Count')\n",
    "plt.show()"
   ]
  },
  {
   "cell_type": "code",
   "execution_count": null,
   "id": "5f94b00c-934a-4270-bc77-e49ae08c57eb",
   "metadata": {},
   "outputs": [],
   "source": [
    "# 2. Distribution of Electric Vehicle Type\n",
    "plt.figure(figsize=(10, 6))\n",
    "sns.countplot(data=dataset, x='Electric Vehicle Type', palette='Set2')\n",
    "plt.title('Count of Electric Vehicle Types')\n",
    "plt.xlabel('Electric Vehicle Type')\n",
    "plt.ylabel('Count')\n",
    "plt.xticks(rotation=45)\n",
    "plt.show()\n"
   ]
  },
  {
   "cell_type": "code",
   "execution_count": null,
   "id": "2fe923b2-713e-420e-965f-4492b1ec54e2",
   "metadata": {},
   "outputs": [],
   "source": [
    "# 3. Distribution of Electric Range\n",
    "plt.figure(figsize=(10, 6))\n",
    "sns.histplot(dataset['Electric Range'], kde=True, bins=30, color='purple')\n",
    "plt.title('Distribution of Electric Range')\n",
    "plt.xlabel('Electric Range (miles)')\n",
    "plt.ylabel('Count')\n",
    "plt.show()"
   ]
  },
  {
   "cell_type": "code",
   "execution_count": null,
   "id": "564bf2df-7074-4e44-a4c6-4b3048907a5d",
   "metadata": {},
   "outputs": [],
   "source": [
    "# ------------- Bivariate Analysis -------------\n",
    "# 4. Electric Range vs. Model Year\n",
    "plt.figure(figsize=(10, 6))\n",
    "sns.scatterplot(data=dataset, x='Model Year', y='Electric Range', hue='Electric Vehicle Type', palette='coolwarm')\n",
    "plt.title('Electric Range vs. Model Year')\n",
    "plt.xlabel('Model Year')\n",
    "plt.ylabel('Electric Range (miles)')\n",
    "plt.legend(title='Electric Vehicle Type')\n",
    "plt.show()\n"
   ]
  },
  {
   "cell_type": "code",
   "execution_count": null,
   "id": "09f14714-3244-466c-bf35-bc5567afb15b",
   "metadata": {},
   "outputs": [],
   "source": [
    "# 5. Electric Range by Make\n",
    "plt.figure(figsize=(10, 6))\n",
    "sns.boxplot(data=dataset, x='Make', y='Electric Range', palette='Set3')\n",
    "plt.title('Electric Range by Vehicle Make')\n",
    "plt.xlabel('Make')\n",
    "plt.ylabel('Electric Range (miles)')\n",
    "plt.xticks(rotation=90)\n",
    "plt.show()"
   ]
  },
  {
   "cell_type": "code",
   "execution_count": null,
   "id": "8f1adafc-7a22-4993-9a2c-9fa20e820cbc",
   "metadata": {},
   "outputs": [],
   "source": [
    "# 6. Base MSRP vs Electric Range\n",
    "plt.figure(figsize=(10, 6))\n",
    "sns.scatterplot(data=dataset, x='Base MSRP', y='Electric Range', hue='Electric Vehicle Type', palette='viridis')\n",
    "plt.title('Base MSRP vs Electric Range')\n",
    "plt.xlabel('Base MSRP (USD)')\n",
    "plt.ylabel('Electric Range (miles)')\n",
    "plt.legend(title='Electric Vehicle Type')\n",
    "plt.show()\n"
   ]
  },
  {
   "cell_type": "code",
   "execution_count": null,
   "id": "50ad8713-196f-45a1-a00c-03914ee5c3d9",
   "metadata": {},
   "outputs": [],
   "source": [
    "# 7. Count of Clean Alternative Fuel Vehicle Eligibility\n",
    "plt.figure(figsize=(10, 6))\n",
    "sns.countplot(data=dataset, x='Clean Alternative Fuel Vehicle (CAFV) Eligibility', palette='Set1')\n",
    "plt.title('Count of CAFV Eligibility')\n",
    "plt.xlabel('CAFV Eligibility')\n",
    "plt.ylabel('Count')\n",
    "plt.xticks(rotation=45)\n",
    "plt.show()"
   ]
  },
  {
   "cell_type": "code",
   "execution_count": null,
   "id": "07de5f80-2837-4188-97ce-072183891c7d",
   "metadata": {},
   "outputs": [],
   "source": [
    "# Missing Data Check\n",
    "print(dataset.isnull().sum())\n",
    "\n",
    "import seaborn as sns\n",
    "import matplotlib.pyplot as plt\n",
    "\n",
    "# Heatmap to visualize missing data\n",
    "plt.figure(figsize=(10, 6))\n",
    "sns.heatmap(dataset.isnull(), cbar=False, cmap='viridis')\n",
    "plt.title('Missing Data Heatmap')\n",
    "plt.show()"
   ]
  },
  {
   "cell_type": "code",
   "execution_count": null,
   "id": "6e5b4b45-707b-4c1c-baa0-2efb53f7baa3",
   "metadata": {},
   "outputs": [],
   "source": [
    "# Boxplot for outlier detection in Electric Range\n",
    "plt.figure(figsize=(10, 6))\n",
    "sns.boxplot(data=dataset, y='Electric Range')\n",
    "plt.title('Boxplot of Electric Range (Outlier Detection)')\n",
    "plt.show()\n",
    "\n",
    "# Boxplot for outlier detection in Base MSRP\n",
    "plt.figure(figsize=(10, 6))\n",
    "sns.boxplot(data=dataset, y='Base MSRP')\n",
    "plt.title('Boxplot of Base MSRP (Outlier Detection)')\n",
    "plt.show()\n"
   ]
  },
  {
   "cell_type": "code",
   "execution_count": null,
   "id": "55685398-d5a6-4c6c-a63d-bc092e7ce8ee",
   "metadata": {},
   "outputs": [],
   "source": [
    "# Correlation matrix and heatmap\n",
    "plt.figure(figsize=(10, 6))\n",
    "corr_matrix = dataset[['Electric Range', 'Model Year', 'Base MSRP']].corr()\n",
    "sns.heatmap(corr_matrix, annot=True, cmap='coolwarm', linewidths=0.5)\n",
    "plt.title('Correlation Heatmap')\n",
    "plt.show()\n"
   ]
  },
  {
   "cell_type": "code",
   "execution_count": null,
   "id": "8a100320-fe48-4e01-9cc6-2afcb54c5386",
   "metadata": {},
   "outputs": [],
   "source": [
    "# Boxplot for Electric Range by CAFV Eligibility\n",
    "plt.figure(figsize=(10, 6))\n",
    "sns.boxplot(data=dataset, x='Clean Alternative Fuel Vehicle (CAFV) Eligibility', y='Electric Range')\n",
    "plt.title('Electric Range by CAFV Eligibility')\n",
    "plt.xlabel('CAFV Eligibility')\n",
    "plt.ylabel('Electric Range (miles)')\n",
    "plt.xticks(rotation=45)\n",
    "plt.show()\n"
   ]
  },
  {
   "cell_type": "code",
   "execution_count": null,
   "id": "9c721d92-163c-4382-bdae-952c41f556f9",
   "metadata": {},
   "outputs": [],
   "source": [
    "\n",
    "# Electric Range by City (Top 10 Cities)\n",
    "top_cities = dataset['City'].value_counts().nlargest(10).index\n",
    "filtered_data = dataset[dataset['City'].isin(top_cities)]\n",
    "\n",
    "plt.figure(figsize=(10, 6))\n",
    "sns.boxplot(data=filtered_data, x='City', y='Electric Range', palette='Set3')\n",
    "plt.title('Electric Range by City (Top 10 Cities)')\n",
    "plt.xlabel('City')\n",
    "plt.ylabel('Electric Range (miles)')\n",
    "plt.xticks(rotation=90)\n",
    "plt.show()\n"
   ]
  },
  {
   "cell_type": "code",
   "execution_count": null,
   "id": "4dd21243-bc39-48dc-aaa6-67cd91e62cb3",
   "metadata": {},
   "outputs": [],
   "source": [
    "# Task 2: Create a Choropleth using plotly.express to display the number of EV vehicles based on location."
   ]
  },
  {
   "cell_type": "code",
   "execution_count": null,
   "id": "2fa2e847-f339-413c-8a21-d4ef609d9014",
   "metadata": {},
   "outputs": [],
   "source": [
    "!pip install plotly"
   ]
  },
  {
   "cell_type": "code",
   "execution_count": null,
   "id": "7733371a-880a-4a1d-ba9e-2b7f8e6b00f7",
   "metadata": {},
   "outputs": [],
   "source": [
    "import pandas as pd\n",
    "dataset = pd.read_csv(\"dataset.csv\")\n"
   ]
  },
  {
   "cell_type": "code",
   "execution_count": null,
   "id": "367bbad0-92fd-4877-ba6b-5613987f6cc3",
   "metadata": {},
   "outputs": [],
   "source": [
    "import plotly.express as px\n"
   ]
  },
  {
   "cell_type": "code",
   "execution_count": null,
   "id": "c48e2cd6-4fce-4e3e-b17b-ba6ad399dd29",
   "metadata": {},
   "outputs": [],
   "source": [
    "scatter_plot = px.scatter(dataset, x=\"Electric Range\", y=\"Base MSRP\", title=\"Scatter Plot: Electric Range vs Base MSRP\")\n",
    "scatter_plot.show()\n"
   ]
  },
  {
   "cell_type": "code",
   "execution_count": null,
   "id": "4d32b3fc-d5bb-44ef-a480-ad69b252f9f6",
   "metadata": {},
   "outputs": [],
   "source": [
    "box_plot = px.box(dataset, x=\"Electric Vehicle Type\", y=\"Electric Range\", title=\"Box Plot: Electric Vehicle Type vs Electric Range\")\n",
    "box_plot.show()\n"
   ]
  },
  {
   "cell_type": "code",
   "execution_count": null,
   "id": "7a0e1221-b261-4dfd-92b5-308c43d0eea0",
   "metadata": {},
   "outputs": [],
   "source": [
    "vehicle_type_count = dataset['Electric Vehicle Type'].value_counts().reset_index()\n",
    "vehicle_type_count.columns = ['Electric Vehicle Type', 'Count']\n",
    "pie_chart = px.pie(vehicle_type_count, names='Electric Vehicle Type', values='Count', title=\"Pie Chart: Distribution of Electric Vehicle Types\")\n",
    "pie_chart.show()\n"
   ]
  },
  {
   "cell_type": "code",
   "execution_count": null,
   "id": "35297f8c-9f4a-4f9e-aa94-805cc406c8f8",
   "metadata": {},
   "outputs": [],
   "source": [
    "vehicle_count_by_state = dataset['State'].value_counts().reset_index()\n",
    "vehicle_count_by_state.columns = ['State', 'Vehicle Count']\n",
    "\n",
    "choropleth = px.choropleth(vehicle_count_by_state,\n",
    "                           locations=\"State\",\n",
    "                           locationmode=\"USA-states\",\n",
    "                           color=\"Vehicle Count\",\n",
    "                           scope=\"usa\",\n",
    "                           title=\"Choropleth Map: Number of EV Vehicles by State\")\n",
    "choropleth.show()\n"
   ]
  },
  {
   "cell_type": "code",
   "execution_count": null,
   "id": "c4213214-c9d6-4691-9a11-345f468e46bd",
   "metadata": {},
   "outputs": [],
   "source": [
    "animated_choropleth = px.choropleth(dataset,\n",
    "                                    locations=\"State\",\n",
    "                                    locationmode=\"USA-states\",\n",
    "                                    color=\"Electric Range\",\n",
    "                                    animation_frame=\"Model Year\",\n",
    "                                    scope=\"usa\",\n",
    "                                    title=\"Animated Choropleth: Electric Range over Model Year by State\")\n",
    "animated_choropleth.show()\n"
   ]
  },
  {
   "cell_type": "code",
   "execution_count": null,
   "id": "fd24fe41-f4c2-4f41-a350-5d50be79b490",
   "metadata": {},
   "outputs": [],
   "source": [
    "# Task 3: Create a Racing Bar Plot to display the animation of EV Make and its count each year."
   ]
  },
  {
   "cell_type": "code",
   "execution_count": null,
   "id": "5ef0fa0f-ab72-4603-a985-cdad13b04eb2",
   "metadata": {},
   "outputs": [],
   "source": [
    "!pip install bar_chart_race"
   ]
  },
  {
   "cell_type": "code",
   "execution_count": null,
   "id": "8b9ba7ca-538f-468a-a0e0-31af0fd43ee9",
   "metadata": {},
   "outputs": [],
   "source": [
    "import pandas as pd\n",
    "\n",
    "# Assuming you have already loaded your dataset\n",
    "# Create a pivot table with counts of vehicles by 'Make' and 'Model Year'\n",
    "pivot_data = dataset.pivot_table(index=\"Model Year\", columns=\"Make\", aggfunc=\"size\", fill_value=0)\n",
    "\n",
    "# Sort the columns by sum of vehicle counts\n",
    "pivot_data = pivot_data.loc[:, pivot_data.sum(axis=0).sort_values(ascending=False).index]\n"
   ]
  },
  {
   "cell_type": "code",
   "execution_count": null,
   "id": "7e42cbcd-fe9f-4bd5-b0b9-07d7a54c910d",
   "metadata": {},
   "outputs": [],
   "source": [
    "import bar_chart_race as bcr\n"
   ]
  },
  {
   "cell_type": "code",
   "execution_count": null,
   "id": "92006040-2ad0-4000-9357-cd26f6c1fe0b",
   "metadata": {},
   "outputs": [],
   "source": [
    "import pandas as pd\n",
    "import plotly.express as px\n",
    "\n",
    "# Create a pivot table with counts of vehicles by 'Make' and 'Model Year'\n",
    "pivot_data = dataset.pivot_table(index=\"Model Year\", columns=\"Make\", aggfunc=\"size\", fill_value=0)\n",
    "\n",
    "# Reset index to make 'Model Year' a column\n",
    "pivot_data.reset_index(inplace=True)\n",
    "melted_data = pivot_data.melt(id_vars=[\"Model Year\"], var_name=\"Make\", value_name=\"Count\")\n",
    "\n",
    "# Create an animated bar plot\n",
    "fig = px.bar(melted_data,\n",
    "             x='Count',\n",
    "             y='Make',\n",
    "             color='Make',\n",
    "             animation_frame='Model Year',\n",
    "             range_x=[0, melted_data['Count'].max() + 10],  # Adjust range for better visualization\n",
    "             title='Year-wise EV Make Sales Animation',\n",
    "             orientation='h')\n",
    "\n",
    "\n",
    "fig.update_layout(\n",
    "    title_font=dict(size=30), \n",
    "    xaxis_title_font=dict(size=20), \n",
    "    yaxis_title_font=dict(size=20),  \n",
    "    width=1000,  \n",
    "    height=600,  \n",
    "    bargap=0.1,  \n",
    ")\n",
    "\n",
    "fig.show()\n"
   ]
  },
  {
   "cell_type": "code",
   "execution_count": null,
   "id": "538ebe6e-b5f8-4331-a38e-fedf04edd925",
   "metadata": {},
   "outputs": [],
   "source": []
  }
 ],
 "metadata": {
  "kernelspec": {
   "display_name": "Python 3 (ipykernel)",
   "language": "python",
   "name": "python3"
  },
  "language_info": {
   "codemirror_mode": {
    "name": "ipython",
    "version": 3
   },
   "file_extension": ".py",
   "mimetype": "text/x-python",
   "name": "python",
   "nbconvert_exporter": "python",
   "pygments_lexer": "ipython3",
   "version": "3.11.4"
  }
 },
 "nbformat": 4,
 "nbformat_minor": 5
}
